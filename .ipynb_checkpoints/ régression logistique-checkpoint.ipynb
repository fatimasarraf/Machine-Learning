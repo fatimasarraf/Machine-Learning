{
 "cells": [
  {
   "cell_type": "markdown",
   "id": "b5b6dde9-e56d-47d4-8add-6cb92cb7ddfd",
   "metadata": {},
   "source": [
    "TP2"
   ]
  },
  {
   "cell_type": "markdown",
   "id": "71ef347e-bb6a-4bea-8ed5-195e2f5aca39",
   "metadata": {},
   "source": [
    "TP2EX1"
   ]
  },
  {
   "cell_type": "markdown",
   "id": "ab91a5bc-8c82-4076-a529-2a9a0f185450",
   "metadata": {},
   "source": [
    "Partie 1: Importation des bibliothèques"
   ]
  },
  {
   "cell_type": "code",
   "execution_count": 1,
   "id": "c69d7d6e-8ad3-40c4-ad7f-8e7159f16875",
   "metadata": {},
   "outputs": [],
   "source": [
    "import numpy as np\n",
    "import matplotlib.pyplot as plt\n",
    "from sklearn.metrics import confusion_matrix\n"
   ]
  },
  {
   "cell_type": "markdown",
   "id": "c81617af-6aa6-46a2-a934-e950796b4d19",
   "metadata": {},
   "source": [
    "Partie 2: Préparation des données\n"
   ]
  },
  {
   "cell_type": "code",
   "execution_count": 2,
   "id": "94e454ea-a260-4c89-8b3c-0f758a966f8b",
   "metadata": {},
   "outputs": [],
   "source": [
    "# Les données\n",
    "m = 16\n",
    "x1 = np.array([5, 3, 4, 5, 0, 8, 10, 7, 15, 17, 16, 11, 14, 14, 12, 18]).reshape(m, 1)\n",
    "x2 = np.array([2, 5, 8, 11, 7, 10, 12, 10, 11, 14, 14, 14, 16, 12, 12, 15]).reshape(m, 1)\n",
    "y = np.array([0, 0, 0, 0, 0, 0, 0, 1, 1, 1, 1, 1, 1, 1, 1, 1]).reshape(m, 1)\n"
   ]
  },
  {
   "cell_type": "markdown",
   "id": "e014cce3-0b1e-4356-b565-ae30b569ee22",
   "metadata": {},
   "source": [
    "Partie 3: Visualisation des données\n"
   ]
  },
  {
   "cell_type": "code",
   "execution_count": 3,
   "id": "d337a5ac-2c5b-466c-b833-493cd6082ce4",
   "metadata": {},
   "outputs": [
    {
     "data": {
      "image/png": "[encoded data removed]",
      "text/plain": [
       "<Figure size 640x480 with 1 Axes>"
      ]
     },
     "metadata": {},
     "output_type": "display_data"
    }
   ],
   "source": [
    "# Affichage des données\n",
    "fig, ax = plt.subplots()\n",
    "plt.scatter(x1[0:7], x2[0:7], c='r', marker='x', label='Not Admitted')\n",
    "plt.scatter(x1[8:16], x2[8:16], c='b', marker='o', label='Admitted')\n",
    "plt.legend()\n",
    "ax.set_xlabel('Eval 1')\n",
    "ax.set_ylabel('Eval 2')\n",
    "plt.show()\n"
   ]
  },
  {
   "cell_type": "markdown",
   "id": "efa421c9-1663-4ab4-9ab5-ed986ff9c78a",
   "metadata": {},
   "source": [
    "Partie 4: Initialisation des variables\n"
   ]
  },
  {
   "cell_type": "code",
   "execution_count": 5,
   "id": "b83efe47-73d4-45f9-aff0-dc43058dd612",
   "metadata": {},
   "outputs": [],
   "source": [
    "# Variables\n",
    "X = np.hstack((x1, x2, np.ones(x1.shape)))\n",
    "theta = np.random.randn(3, 1)\n"
   ]
  },
  {
   "cell_type": "markdown",
   "id": "25dfafaf-d0cf-4218-ae4a-ffe0380a49c2",
   "metadata": {},
   "source": [
    "Partie 5: Définition des fonctions nécessaires\n"
   ]
  },
  {
   "cell_type": "code",
   "execution_count": 7,
   "id": "b64d7be6-9879-445a-8d7b-9b05276d4663",
   "metadata": {},
   "outputs": [],
   "source": [
    "# Fonction sigmoïde\n",
    "def sigmoid(z):\n",
    "    return 1 / (1 + np.exp(-z))\n",
    "\n",
    "# Modèle\n",
    "def model(X, theta):\n",
    "    return sigmoid(np.dot(X, theta))\n",
    "\n",
    "# Fonction coût\n",
    "def cost_function(X, y, theta):\n",
    "    m = len(y)\n",
    "    h = model(X, theta)\n",
    "    cost = (-1/m) * np.sum(y * np.log(h) + (1 - y) * np.log(1 - h))\n",
    "    return cost\n",
    "\n",
    "# Gradient\n",
    "def gradient(X, y, theta):\n",
    "    m = len(y)\n",
    "    h = model(X, theta)\n",
    "    grad = (1/m) * np.dot(X.T, (h - y))\n",
    "    return grad\n",
    "\n",
    "# Descente du gradient\n",
    "def gradient_descent(X, y, theta, learning_rate, num_iterations):\n",
    "    for _ in range(num_iterations):\n",
    "        theta -= learning_rate * gradient(X, y, theta)\n",
    "    return theta\n",
    "\n",
    "# Prédiction de classes\n",
    "def predict_classes(X, theta):\n",
    "    probabilities = model(X, theta)\n",
    "    predictions = (probabilities >= 0.5).astype(int)\n",
    "    return predictions\n"
   ]
  },
  {
   "cell_type": "markdown",
   "id": "e9f84da1-c8cd-47bc-bfe5-7235254fa4e2",
   "metadata": {},
   "source": [
    "Partie 6: Entraînement du modèle et prédiction\n"
   ]
  },
  {
   "cell_type": "code",
   "execution_count": 8,
   "id": "0961ee0a-34bc-4dc0-9ace-551cb3e8a7ab",
   "metadata": {},
   "outputs": [],
   "source": [
    "# Utilisation des fonctions\n",
    "learning_rate = 0.01\n",
    "num_iterations = 1000\n",
    "\n",
    "# Descente du gradient\n",
    "theta = gradient_descent(X, y, theta, learning_rate, num_iterations)\n",
    "\n",
    "# Prédiction des classes\n",
    "predictions = predict_classes(X, theta)\n"
   ]
  },
  {
   "cell_type": "markdown",
   "id": "64bd2abd-4e56-4248-8462-bbd5504e00d8",
   "metadata": {},
   "source": [
    "Partie 7: Évaluation du modèle\n"
   ]
  },
  {
   "cell_type": "code",
   "execution_count": 10,
   "id": "8cf73863-a675-4235-9969-a9be62144794",
   "metadata": {},
   "outputs": [
    {
     "name": "stdout",
     "output_type": "stream",
     "text": [
      "Matrice de confusion:\n",
      "[[4 3]\n",
      " [1 8]]\n",
      "Accuracy: 0.75\n",
      "Error rate: 0.25\n",
      "Sensitivity: 0.8888888888888888\n",
      "Specificity: 0.5714285714285714\n",
      "Precision: 0.7272727272727273\n",
      "F-score: 0.7999999999999999\n"
     ]
    }
   ],
   "source": [
    "# Affichage de la matrice de confusion\n",
    "cm = confusion_matrix(y, predictions)\n",
    "print(\"Matrice de confusion:\")\n",
    "print(cm)\n",
    "\n",
    "# Calcul des métriques\n",
    "TP = cm[1, 1]\n",
    "TN = cm[0, 0]\n",
    "FP = cm[0, 1]\n",
    "FN = cm[1, 0]\n",
    "accuracy = (TP + TN) / (TP + TN + FP + FN)\n",
    "error_rate = (FP + FN) / (TP + TN + FP + FN)\n",
    "sensitivity = TP / (TP + FN)\n",
    "specificity = TN / (TN + FP)\n",
    "precision = TP / (TP + FP)\n",
    "f_score = 2 * precision * sensitivity / (precision + sensitivity)\n",
    "\n",
    "print(\"Accuracy:\", accuracy)\n",
    "print(\"Error rate:\", error_rate)\n",
    "print(\"Sensitivity:\", sensitivity)\n",
    "print(\"Specificity:\", specificity)\n",
    "print(\"Precision:\", precision)\n",
    "print(\"F-score:\", f_score)\n"
   ]
  },
  {
   "cell_type": "markdown",
   "id": "e9f6f0af-7219-4ddd-a055-058e2e69e887",
   "metadata": {},
   "source": [
    "TP2EX2"
   ]
  },
  {
   "cell_type": "markdown",
   "id": "a8e6f3a5-cfc8-444a-ab46-9ec47a4d564c",
   "metadata": {},
   "source": [
    "Partie 1: Importation des bibliothèques\n"
   ]
  },
  {
   "cell_type": "code",
   "execution_count": 12,
   "id": "7680f4aa-24b5-4e92-af40-4584c69a69f9",
   "metadata": {},
   "outputs": [],
   "source": [
    "from sklearn.model_selection import train_test_split\n",
    "from sklearn.linear_model import LogisticRegression\n",
    "from sklearn.metrics import roc_curve\n",
    "import matplotlib.pyplot as plt\n",
    "from sklearn import datasets\n",
    "from sklearn.preprocessing import StandardScaler\n"
   ]
  },
  {
   "cell_type": "markdown",
   "id": "82b0ca69-cd91-4c37-aeb3-be5b0e395e14",
   "metadata": {},
   "source": [
    "Partie 2: Chargement et préparation des données\n"
   ]
  },
  {
   "cell_type": "code",
   "execution_count": 13,
   "id": "5337e7fe-a0dc-4514-ae43-42d2804193b9",
   "metadata": {},
   "outputs": [],
   "source": [
    "# Charger le dataset\n",
    "data_set = datasets.load_breast_cancer()\n",
    "X = data_set.data\n",
    "y = data_set.target\n",
    "\n",
    "# Division en base d'entraînement et de test\n",
    "X_train, X_test, y_train, y_test = train_test_split(X, y, test_size=0.3, random_state=42)\n",
    "\n",
    "# Mettre à l'échelle des données\n",
    "scaler = StandardScaler()\n",
    "X_train_scaled = scaler.fit_transform(X_train)\n",
    "X_test_scaled = scaler.transform(X_test)\n"
   ]
  },
  {
   "cell_type": "markdown",
   "id": "ddb3d2dd-6c06-4f6c-8d2f-b0b83d11bc22",
   "metadata": {},
   "source": [
    "Partie 3: Entraînement du modèle\n"
   ]
  },
  {
   "cell_type": "code",
   "execution_count": 14,
   "id": "b8feb11c-5820-4cab-87cd-cdfe757f0561",
   "metadata": {},
   "outputs": [
    {
     "data": {
      "text/html": [
       "<style>#sk-container-id-1 {color: black;background-color: white;}#sk-container-id-1 pre{padding: 0;}#sk-container-id-1 div.sk-toggleable {background-color: white;}#sk-container-id-1 label.sk-toggleable__label {cursor: pointer;display: block;width: 100%;margin-bottom: 0;padding: 0.3em;box-sizing: border-box;text-align: center;}#sk-container-id-1 label.sk-toggleable__label-arrow:before {content: \"▸\";float: left;margin-right: 0.25em;color: #696969;}#sk-container-id-1 label.sk-toggleable__label-arrow:hover:before {color: black;}#sk-container-id-1 div.sk-estimator:hover label.sk-toggleable__label-arrow:before {color: black;}#sk-container-id-1 div.sk-toggleable__content {max-height: 0;max-width: 0;overflow: hidden;text-align: left;background-color: #f0f8ff;}#sk-container-id-1 div.sk-toggleable__content pre {margin: 0.2em;color: black;border-radius: 0.25em;background-color: #f0f8ff;}#sk-container-id-1 input.sk-toggleable__control:checked~div.sk-toggleable__content {max-height: 200px;max-width: 100%;overflow: auto;}#sk-container-id-1 input.sk-toggleable__control:checked~label.sk-toggleable__label-arrow:before {content: \"▾\";}#sk-container-id-1 div.sk-estimator input.sk-toggleable__control:checked~label.sk-toggleable__label {background-color: #d4ebff;}#sk-container-id-1 div.sk-label input.sk-toggleable__control:checked~label.sk-toggleable__label {background-color: #d4ebff;}#sk-container-id-1 input.sk-hidden--visually {border: 0;clip: rect(1px 1px 1px 1px);clip: rect(1px, 1px, 1px, 1px);height: 1px;margin: -1px;overflow: hidden;padding: 0;position: absolute;width: 1px;}#sk-container-id-1 div.sk-estimator {font-family: monospace;background-color: #f0f8ff;border: 1px dotted black;border-radius: 0.25em;box-sizing: border-box;margin-bottom: 0.5em;}#sk-container-id-1 div.sk-estimator:hover {background-color: #d4ebff;}#sk-container-id-1 div.sk-parallel-item::after {content: \"\";width: 100%;border-bottom: 1px solid gray;flex-grow: 1;}#sk-container-id-1 div.sk-label:hover label.sk-toggleable__label {background-color: #d4ebff;}#sk-container-id-1 div.sk-serial::before {content: \"\";position: absolute;border-left: 1px solid gray;box-sizing: border-box;top: 0;bottom: 0;left: 50%;z-index: 0;}#sk-container-id-1 div.sk-serial {display: flex;flex-direction: column;align-items: center;background-color: white;padding-right: 0.2em;padding-left: 0.2em;position: relative;}#sk-container-id-1 div.sk-item {position: relative;z-index: 1;}#sk-container-id-1 div.sk-parallel {display: flex;align-items: stretch;justify-content: center;background-color: white;position: relative;}#sk-container-id-1 div.sk-item::before, #sk-container-id-1 div.sk-parallel-item::before {content: \"\";position: absolute;border-left: 1px solid gray;box-sizing: border-box;top: 0;bottom: 0;left: 50%;z-index: -1;}#sk-container-id-1 div.sk-parallel-item {display: flex;flex-direction: column;z-index: 1;position: relative;background-color: white;}#sk-container-id-1 div.sk-parallel-item:first-child::after {align-self: flex-end;width: 50%;}#sk-container-id-1 div.sk-parallel-item:last-child::after {align-self: flex-start;width: 50%;}#sk-container-id-1 div.sk-parallel-item:only-child::after {width: 0;}#sk-container-id-1 div.sk-dashed-wrapped {border: 1px dashed gray;margin: 0 0.4em 0.5em 0.4em;box-sizing: border-box;padding-bottom: 0.4em;background-color: white;}#sk-container-id-1 div.sk-label label {font-family: monospace;font-weight: bold;display: inline-block;line-height: 1.2em;}#sk-container-id-1 div.sk-label-container {text-align: center;}#sk-container-id-1 div.sk-container {/* jupyter's `normalize.less` sets `[hidden] { display: none; }` but bootstrap.min.css set `[hidden] { display: none !important; }` so we also need the `!important` here to be able to override the default hidden behavior on the sphinx rendered scikit-learn.org. See: https://github.com/scikit-learn/scikit-learn/issues/21755 */display: inline-block !important;position: relative;}#sk-container-id-1 div.sk-text-repr-fallback {display: none;}</style><div id=\"sk-container-id-1\" class=\"sk-top-container\"><div class=\"sk-text-repr-fallback\"><pre>LogisticRegression(max_iter=1000)</pre><b>In a Jupyter environment, please rerun this cell to show the HTML representation or trust the notebook. <br />On GitHub, the HTML representation is unable to render, please try loading this page with nbviewer.org.</b></div><div class=\"sk-container\" hidden><div class=\"sk-item\"><div class=\"sk-estimator sk-toggleable\"><input class=\"sk-toggleable__control sk-hidden--visually\" id=\"sk-estimator-id-1\" type=\"checkbox\" checked><label for=\"sk-estimator-id-1\" class=\"sk-toggleable__label sk-toggleable__label-arrow\">LogisticRegression</label><div class=\"sk-toggleable__content\"><pre>LogisticRegression(max_iter=1000)</pre></div></div></div></div></div>"
      ],
      "text/plain": [
       "LogisticRegression(max_iter=1000)"
      ]
     },
     "execution_count": 14,
     "metadata": {},
     "output_type": "execute_result"
    }
   ],
   "source": [
    "# Modèle de régression logistique avec un nombre d'itérations maximal plus grand\n",
    "model = LogisticRegression(max_iter=1000)\n",
    "\n",
    "# Entraîner le modèle avec les données mises à l'échelle\n",
    "model.fit(X_train_scaled, y_train)\n"
   ]
  },
  {
   "cell_type": "markdown",
   "id": "565a95f0-6c8e-4290-ab8b-d41698c7944c",
   "metadata": {},
   "source": [
    "Partie 4: Prédictions et évaluation\n"
   ]
  },
  {
   "cell_type": "code",
   "execution_count": 15,
   "id": "98403b7e-f537-4740-a5cb-5e47d1866c81",
   "metadata": {},
   "outputs": [
    {
     "data": {
      "image/png": "[encoded data removed]",
      "text/plain": [
       "<Figure size 640x480 with 1 Axes>"
      ]
     },
     "metadata": {},
     "output_type": "display_data"
    }
   ],
   "source": [
    "# Prédictions\n",
    "y_pred = model.predict(X_test_scaled)\n",
    "\n",
    "# Étude des performances\n",
    "fpr, tpr, thresholds = roc_curve(y_test, y_pred)\n",
    "\n",
    "plt.plot([0, 1], [0, 1], '--')\n",
    "plt.plot(fpr, tpr, label='Régression logistique')\n",
    "plt.xlabel('Taux de faux positifs')\n",
    "plt.ylabel('Taux de vrais positifs')\n",
    "plt.title('Courbe ROC')\n",
    "plt.legend()\n",
    "plt.show()\n"
   ]
  },
  {
   "cell_type": "code",
   "execution_count": null,
   "id": "b8186f87-9177-44e2-9916-b590371d5010",
   "metadata": {},
   "outputs": [],
   "source": []
  }
 ],
 "metadata": {
  "kernelspec": {
   "display_name": "Python 3 (ipykernel)",
   "language": "python",
   "name": "python3"
  },
  "language_info": {
   "codemirror_mode": {
    "name": "ipython",
    "version": 3
   },
   "file_extension": ".py",
   "mimetype": "text/x-python",
   "name": "python",
   "nbconvert_exporter": "python",
   "pygments_lexer": "ipython3",
   "version": "3.11.7"
  }
 },
 "nbformat": 4,
 "nbformat_minor": 5
}
