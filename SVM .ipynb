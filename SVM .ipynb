{
 "cells": [
  {
   "cell_type": "markdown",
   "id": "250fc050-cb7f-4356-82b6-da8bec16cd35",
   "metadata": {},
   "source": [
    "Tp4"
   ]
  },
  {
   "cell_type": "markdown",
   "id": "8310eccc-a84c-423d-bf98-ab567d46e0bc",
   "metadata": {},
   "source": [
    "Tp4ex1"
   ]
  },
  {
   "cell_type": "markdown",
   "id": "728a4a32-5e97-4b0a-9c6b-c708c5516619",
   "metadata": {},
   "source": [
    "Partie 1: Importation des bibliothèques et acquisition des données\n"
   ]
  },
  {
   "cell_type": "code",
   "execution_count": 1,
   "id": "e6be8ae5-356d-4918-b349-e3c51c7a1dc2",
   "metadata": {},
   "outputs": [],
   "source": [
    "import pandas as pd\n",
    "import seaborn as sns\n",
    "import matplotlib.pyplot as plt\n",
    "import numpy as np\n",
    "from sklearn.datasets import load_breast_cancer\n"
   ]
  },
  {
   "cell_type": "markdown",
   "id": "26265b89-8f22-41ee-8420-ca60833ab216",
   "metadata": {},
   "source": [
    "Partie 2: Acquisition et compréhension des donnée"
   ]
  },
  {
   "cell_type": "code",
   "execution_count": 2,
   "id": "976ca94c-aa9e-4ad7-bada-9455c40693e8",
   "metadata": {},
   "outputs": [
    {
     "name": "stdout",
     "output_type": "stream",
     "text": [
      "dict_keys(['data', 'target', 'frame', 'target_names', 'DESCR', 'feature_names', 'filename', 'data_module'])\n",
      ".. _breast_cancer_dataset:\n",
      "\n",
      "Breast cancer wisconsin (diagnostic) dataset\n",
      "--------------------------------------------\n",
      "\n",
      "**Data Set Characteristics:**\n",
      "\n",
      "    :Number of Instances: 569\n",
      "\n",
      "    :Number of Attributes: 30 numeric, predictive attributes and the class\n",
      "\n",
      "    :Attribute Information:\n",
      "        - radius (mean of distances from center to points on the perimeter)\n",
      "        - texture (standard deviation of gray-scale values)\n",
      "        - perimeter\n",
      "        - area\n",
      "        - smoothness (local variation in radius lengths)\n",
      "        - compactness (perimeter^2 / area - 1.0)\n",
      "        - concavity (severity of concave portions of the contour)\n",
      "        - concave points (number of concave portions of the contour)\n",
      "        - symmetry\n",
      "        - fractal dimension (\"coastline approximation\" - 1)\n",
      "\n",
      "        The mean, standard error, and \"worst\" or largest (mean of the three\n",
      "        worst/largest values) of these features were computed for each image,\n",
      "        resulting in 30 features.  For instance, field 0 is Mean Radius, field\n",
      "        10 is Radius SE, field 20 is Worst Radius.\n",
      "\n",
      "        - class:\n",
      "                - WDBC-Malignant\n",
      "                - WDBC-Benign\n",
      "\n",
      "    :Summary Statistics:\n",
      "\n",
      "    ===================================== ====== ======\n",
      "                                           Min    Max\n",
      "    ===================================== ====== ======\n",
      "    radius (mean):                        6.981  28.11\n",
      "    texture (mean):                       9.71   39.28\n",
      "    perimeter (mean):                     43.79  188.5\n",
      "    area (mean):                          143.5  2501.0\n",
      "    smoothness (mean):                    0.053  0.163\n",
      "    compactness (mean):                   0.019  0.345\n",
      "    concavity (mean):                     0.0    0.427\n",
      "    concave points (mean):                0.0    0.201\n",
      "    symmetry (mean):                      0.106  0.304\n",
      "    fractal dimension (mean):             0.05   0.097\n",
      "    radius (standard error):              0.112  2.873\n",
      "    texture (standard error):             0.36   4.885\n",
      "    perimeter (standard error):           0.757  21.98\n",
      "    area (standard error):                6.802  542.2\n",
      "    smoothness (standard error):          0.002  0.031\n",
      "    compactness (standard error):         0.002  0.135\n",
      "    concavity (standard error):           0.0    0.396\n",
      "    concave points (standard error):      0.0    0.053\n",
      "    symmetry (standard error):            0.008  0.079\n",
      "    fractal dimension (standard error):   0.001  0.03\n",
      "    radius (worst):                       7.93   36.04\n",
      "    texture (worst):                      12.02  49.54\n",
      "    perimeter (worst):                    50.41  251.2\n",
      "    area (worst):                         185.2  4254.0\n",
      "    smoothness (worst):                   0.071  0.223\n",
      "    compactness (worst):                  0.027  1.058\n",
      "    concavity (worst):                    0.0    1.252\n",
      "    concave points (worst):               0.0    0.291\n",
      "    symmetry (worst):                     0.156  0.664\n",
      "    fractal dimension (worst):            0.055  0.208\n",
      "    ===================================== ====== ======\n",
      "\n",
      "    :Missing Attribute Values: None\n",
      "\n",
      "    :Class Distribution: 212 - Malignant, 357 - Benign\n",
      "\n",
      "    :Creator:  Dr. William H. Wolberg, W. Nick Street, Olvi L. Mangasarian\n",
      "\n",
      "    :Donor: Nick Street\n",
      "\n",
      "    :Date: November, 1995\n",
      "\n",
      "This is a copy of UCI ML Breast Cancer Wisconsin (Diagnostic) datasets.\n",
      "https://goo.gl/U2Uwz2\n",
      "\n",
      "Features are computed from a digitized image of a fine needle\n",
      "aspirate (FNA) of a breast mass.  They describe\n",
      "characteristics of the cell nuclei present in the image.\n",
      "\n",
      "Separating plane described above was obtained using\n",
      "Multisurface Method-Tree (MSM-T) [K. P. Bennett, \"Decision Tree\n",
      "Construction Via Linear Programming.\" Proceedings of the 4th\n",
      "Midwest Artificial Intelligence and Cognitive Science Society,\n",
      "pp. 97-101, 1992], a classification method which uses linear\n",
      "programming to construct a decision tree.  Relevant features\n",
      "were selected using an exhaustive search in the space of 1-4\n",
      "features and 1-3 separating planes.\n",
      "\n",
      "The actual linear program used to obtain the separating plane\n",
      "in the 3-dimensional space is that described in:\n",
      "[K. P. Bennett and O. L. Mangasarian: \"Robust Linear\n",
      "Programming Discrimination of Two Linearly Inseparable Sets\",\n",
      "Optimization Methods and Software 1, 1992, 23-34].\n",
      "\n",
      "This database is also available through the UW CS ftp server:\n",
      "\n",
      "ftp ftp.cs.wisc.edu\n",
      "cd math-prog/cpo-dataset/machine-learn/WDBC/\n",
      "\n",
      ".. topic:: References\n",
      "\n",
      "   - W.N. Street, W.H. Wolberg and O.L. Mangasarian. Nuclear feature extraction \n",
      "     for breast tumor diagnosis. IS&T/SPIE 1993 International Symposium on \n",
      "     Electronic Imaging: Science and Technology, volume 1905, pages 861-870,\n",
      "     San Jose, CA, 1993.\n",
      "   - O.L. Mangasarian, W.N. Street and W.H. Wolberg. Breast cancer diagnosis and \n",
      "     prognosis via linear programming. Operations Research, 43(4), pages 570-577, \n",
      "     July-August 1995.\n",
      "   - W.H. Wolberg, W.N. Street, and O.L. Mangasarian. Machine learning techniques\n",
      "     to diagnose breast cancer from fine-needle aspirates. Cancer Letters 77 (1994) \n",
      "     163-171.\n",
      "<class 'pandas.core.frame.DataFrame'>\n",
      "RangeIndex: 569 entries, 0 to 568\n",
      "Data columns (total 30 columns):\n",
      " #   Column                   Non-Null Count  Dtype  \n",
      "---  ------                   --------------  -----  \n",
      " 0   mean radius              569 non-null    float64\n",
      " 1   mean texture             569 non-null    float64\n",
      " 2   mean perimeter           569 non-null    float64\n",
      " 3   mean area                569 non-null    float64\n",
      " 4   mean smoothness          569 non-null    float64\n",
      " 5   mean compactness         569 non-null    float64\n",
      " 6   mean concavity           569 non-null    float64\n",
      " 7   mean concave points      569 non-null    float64\n",
      " 8   mean symmetry            569 non-null    float64\n",
      " 9   mean fractal dimension   569 non-null    float64\n",
      " 10  radius error             569 non-null    float64\n",
      " 11  texture error            569 non-null    float64\n",
      " 12  perimeter error          569 non-null    float64\n",
      " 13  area error               569 non-null    float64\n",
      " 14  smoothness error         569 non-null    float64\n",
      " 15  compactness error        569 non-null    float64\n",
      " 16  concavity error          569 non-null    float64\n",
      " 17  concave points error     569 non-null    float64\n",
      " 18  symmetry error           569 non-null    float64\n",
      " 19  fractal dimension error  569 non-null    float64\n",
      " 20  worst radius             569 non-null    float64\n",
      " 21  worst texture            569 non-null    float64\n",
      " 22  worst perimeter          569 non-null    float64\n",
      " 23  worst area               569 non-null    float64\n",
      " 24  worst smoothness         569 non-null    float64\n",
      " 25  worst compactness        569 non-null    float64\n",
      " 26  worst concavity          569 non-null    float64\n",
      " 27  worst concave points     569 non-null    float64\n",
      " 28  worst symmetry           569 non-null    float64\n",
      " 29  worst fractal dimension  569 non-null    float64\n",
      "dtypes: float64(30)\n",
      "memory usage: 133.5 KB\n",
      "None\n",
      "   Cancer\n",
      "0       0\n",
      "1       0\n",
      "2       0\n",
      "3       0\n",
      "4       0\n",
      "   mean radius  mean texture  mean perimeter  mean area  mean smoothness  \\\n",
      "0        17.99         10.38          122.80     1001.0          0.11840   \n",
      "1        20.57         17.77          132.90     1326.0          0.08474   \n",
      "2        19.69         21.25          130.00     1203.0          0.10960   \n",
      "3        11.42         20.38           77.58      386.1          0.14250   \n",
      "4        20.29         14.34          135.10     1297.0          0.10030   \n",
      "\n",
      "   mean compactness  mean concavity  mean concave points  mean symmetry  \\\n",
      "0           0.27760          0.3001              0.14710         0.2419   \n",
      "1           0.07864          0.0869              0.07017         0.1812   \n",
      "2           0.15990          0.1974              0.12790         0.2069   \n",
      "3           0.28390          0.2414              0.10520         0.2597   \n",
      "4           0.13280          0.1980              0.10430         0.1809   \n",
      "\n",
      "   mean fractal dimension  ...  worst radius  worst texture  worst perimeter  \\\n",
      "0                 0.07871  ...         25.38          17.33           184.60   \n",
      "1                 0.05667  ...         24.99          23.41           158.80   \n",
      "2                 0.05999  ...         23.57          25.53           152.50   \n",
      "3                 0.09744  ...         14.91          26.50            98.87   \n",
      "4                 0.05883  ...         22.54          16.67           152.20   \n",
      "\n",
      "   worst area  worst smoothness  worst compactness  worst concavity  \\\n",
      "0      2019.0            0.1622             0.6656           0.7119   \n",
      "1      1956.0            0.1238             0.1866           0.2416   \n",
      "2      1709.0            0.1444             0.4245           0.4504   \n",
      "3       567.7            0.2098             0.8663           0.6869   \n",
      "4      1575.0            0.1374             0.2050           0.4000   \n",
      "\n",
      "   worst concave points  worst symmetry  worst fractal dimension  \n",
      "0                0.2654          0.4601                  0.11890  \n",
      "1                0.1860          0.2750                  0.08902  \n",
      "2                0.2430          0.3613                  0.08758  \n",
      "3                0.2575          0.6638                  0.17300  \n",
      "4                0.1625          0.2364                  0.07678  \n",
      "\n",
      "[5 rows x 30 columns]\n"
     ]
    }
   ],
   "source": [
    "cancer = load_breast_cancer()\n",
    "print(cancer.keys())\n",
    "print(cancer['DESCR'])\n",
    "df_feat = pd.DataFrame(cancer['data'], columns=cancer['feature_names'])\n",
    "print(df_feat.info())\n",
    "df_target = pd.DataFrame(cancer['target'], columns=['Cancer'])\n",
    "print(df_target.head())\n",
    "print(df_feat.head())\n"
   ]
  },
  {
   "cell_type": "markdown",
   "id": "c722c0ee-2d0a-4b27-9ff4-919371e36e45",
   "metadata": {},
   "source": [
    "Partie 3: Séparation des données d'apprentissage et de test\n"
   ]
  },
  {
   "cell_type": "code",
   "execution_count": 3,
   "id": "e9eabbea-9034-400c-b3a1-36c1c0a569b8",
   "metadata": {},
   "outputs": [],
   "source": [
    "from sklearn.model_selection import train_test_split\n",
    "X_train, X_test, y_train, y_test = train_test_split(df_feat, np.ravel(df_target), test_size=0.30, random_state=101)\n"
   ]
  },
  {
   "cell_type": "markdown",
   "id": "acb5254f-cd44-411a-b0b9-807ec50ab01b",
   "metadata": {},
   "source": [
    "Partie 4: Entraînement du classifieur SVM"
   ]
  },
  {
   "cell_type": "code",
   "execution_count": 4,
   "id": "ac13798a-3f71-46d8-8503-93ff5613a20a",
   "metadata": {},
   "outputs": [
    {
     "data": {
      "text/html": [
       "<style>#sk-container-id-1 {color: black;background-color: white;}#sk-container-id-1 pre{padding: 0;}#sk-container-id-1 div.sk-toggleable {background-color: white;}#sk-container-id-1 label.sk-toggleable__label {cursor: pointer;display: block;width: 100%;margin-bottom: 0;padding: 0.3em;box-sizing: border-box;text-align: center;}#sk-container-id-1 label.sk-toggleable__label-arrow:before {content: \"▸\";float: left;margin-right: 0.25em;color: #696969;}#sk-container-id-1 label.sk-toggleable__label-arrow:hover:before {color: black;}#sk-container-id-1 div.sk-estimator:hover label.sk-toggleable__label-arrow:before {color: black;}#sk-container-id-1 div.sk-toggleable__content {max-height: 0;max-width: 0;overflow: hidden;text-align: left;background-color: #f0f8ff;}#sk-container-id-1 div.sk-toggleable__content pre {margin: 0.2em;color: black;border-radius: 0.25em;background-color: #f0f8ff;}#sk-container-id-1 input.sk-toggleable__control:checked~div.sk-toggleable__content {max-height: 200px;max-width: 100%;overflow: auto;}#sk-container-id-1 input.sk-toggleable__control:checked~label.sk-toggleable__label-arrow:before {content: \"▾\";}#sk-container-id-1 div.sk-estimator input.sk-toggleable__control:checked~label.sk-toggleable__label {background-color: #d4ebff;}#sk-container-id-1 div.sk-label input.sk-toggleable__control:checked~label.sk-toggleable__label {background-color: #d4ebff;}#sk-container-id-1 input.sk-hidden--visually {border: 0;clip: rect(1px 1px 1px 1px);clip: rect(1px, 1px, 1px, 1px);height: 1px;margin: -1px;overflow: hidden;padding: 0;position: absolute;width: 1px;}#sk-container-id-1 div.sk-estimator {font-family: monospace;background-color: #f0f8ff;border: 1px dotted black;border-radius: 0.25em;box-sizing: border-box;margin-bottom: 0.5em;}#sk-container-id-1 div.sk-estimator:hover {background-color: #d4ebff;}#sk-container-id-1 div.sk-parallel-item::after {content: \"\";width: 100%;border-bottom: 1px solid gray;flex-grow: 1;}#sk-container-id-1 div.sk-label:hover label.sk-toggleable__label {background-color: #d4ebff;}#sk-container-id-1 div.sk-serial::before {content: \"\";position: absolute;border-left: 1px solid gray;box-sizing: border-box;top: 0;bottom: 0;left: 50%;z-index: 0;}#sk-container-id-1 div.sk-serial {display: flex;flex-direction: column;align-items: center;background-color: white;padding-right: 0.2em;padding-left: 0.2em;position: relative;}#sk-container-id-1 div.sk-item {position: relative;z-index: 1;}#sk-container-id-1 div.sk-parallel {display: flex;align-items: stretch;justify-content: center;background-color: white;position: relative;}#sk-container-id-1 div.sk-item::before, #sk-container-id-1 div.sk-parallel-item::before {content: \"\";position: absolute;border-left: 1px solid gray;box-sizing: border-box;top: 0;bottom: 0;left: 50%;z-index: -1;}#sk-container-id-1 div.sk-parallel-item {display: flex;flex-direction: column;z-index: 1;position: relative;background-color: white;}#sk-container-id-1 div.sk-parallel-item:first-child::after {align-self: flex-end;width: 50%;}#sk-container-id-1 div.sk-parallel-item:last-child::after {align-self: flex-start;width: 50%;}#sk-container-id-1 div.sk-parallel-item:only-child::after {width: 0;}#sk-container-id-1 div.sk-dashed-wrapped {border: 1px dashed gray;margin: 0 0.4em 0.5em 0.4em;box-sizing: border-box;padding-bottom: 0.4em;background-color: white;}#sk-container-id-1 div.sk-label label {font-family: monospace;font-weight: bold;display: inline-block;line-height: 1.2em;}#sk-container-id-1 div.sk-label-container {text-align: center;}#sk-container-id-1 div.sk-container {/* jupyter's `normalize.less` sets `[hidden] { display: none; }` but bootstrap.min.css set `[hidden] { display: none !important; }` so we also need the `!important` here to be able to override the default hidden behavior on the sphinx rendered scikit-learn.org. See: https://github.com/scikit-learn/scikit-learn/issues/21755 */display: inline-block !important;position: relative;}#sk-container-id-1 div.sk-text-repr-fallback {display: none;}</style><div id=\"sk-container-id-1\" class=\"sk-top-container\"><div class=\"sk-text-repr-fallback\"><pre>SVC()</pre><b>In a Jupyter environment, please rerun this cell to show the HTML representation or trust the notebook. <br />On GitHub, the HTML representation is unable to render, please try loading this page with nbviewer.org.</b></div><div class=\"sk-container\" hidden><div class=\"sk-item\"><div class=\"sk-estimator sk-toggleable\"><input class=\"sk-toggleable__control sk-hidden--visually\" id=\"sk-estimator-id-1\" type=\"checkbox\" checked><label for=\"sk-estimator-id-1\" class=\"sk-toggleable__label sk-toggleable__label-arrow\">SVC</label><div class=\"sk-toggleable__content\"><pre>SVC()</pre></div></div></div></div></div>"
      ],
      "text/plain": [
       "SVC()"
      ]
     },
     "execution_count": 4,
     "metadata": {},
     "output_type": "execute_result"
    }
   ],
   "source": [
    "from sklearn.svm import SVC\n",
    "model = SVC()\n",
    "model.fit(X_train, y_train)\n"
   ]
  },
  {
   "cell_type": "markdown",
   "id": "559a7143-4c69-4502-b52d-fe09f9578965",
   "metadata": {},
   "source": [
    "Partie 5: Prédictions et évaluations\n"
   ]
  },
  {
   "cell_type": "code",
   "execution_count": 5,
   "id": "7ce23536-99fc-45ad-9165-173b120472c2",
   "metadata": {},
   "outputs": [
    {
     "name": "stdout",
     "output_type": "stream",
     "text": [
      "[[ 56  10]\n",
      " [  3 102]]\n",
      "              precision    recall  f1-score   support\n",
      "\n",
      "           0       0.95      0.85      0.90        66\n",
      "           1       0.91      0.97      0.94       105\n",
      "\n",
      "    accuracy                           0.92       171\n",
      "   macro avg       0.93      0.91      0.92       171\n",
      "weighted avg       0.93      0.92      0.92       171\n",
      "\n"
     ]
    }
   ],
   "source": [
    "predictions = model.predict(X_test)\n",
    "from sklearn.metrics import classification_report, confusion_matrix\n",
    "print(confusion_matrix(y_test, predictions))\n",
    "print(classification_report(y_test, predictions))\n"
   ]
  },
  {
   "cell_type": "markdown",
   "id": "511ff902-0146-4067-8695-08d5c07b5e85",
   "metadata": {},
   "source": [
    "Partie 6: Gridsearch pour trouver les meilleurs paramètres\n"
   ]
  },
  {
   "cell_type": "code",
   "execution_count": 6,
   "id": "dca23551-5908-42ed-bce2-68e7c8dfa765",
   "metadata": {},
   "outputs": [
    {
     "name": "stdout",
     "output_type": "stream",
     "text": [
      "Fitting 5 folds for each of 25 candidates, totalling 125 fits\n",
      "[CV 1/5] END ....................C=0.1, gamma=1;, score=0.637 total time=   0.0s\n",
      "[CV 2/5] END ....................C=0.1, gamma=1;, score=0.637 total time=   0.0s\n",
      "[CV 3/5] END ....................C=0.1, gamma=1;, score=0.625 total time=   0.0s\n",
      "[CV 4/5] END ....................C=0.1, gamma=1;, score=0.633 total time=   0.0s\n",
      "[CV 5/5] END ....................C=0.1, gamma=1;, score=0.633 total time=   0.0s\n",
      "[CV 1/5] END ..................C=0.1, gamma=0.1;, score=0.637 total time=   0.0s\n",
      "[CV 2/5] END ..................C=0.1, gamma=0.1;, score=0.637 total time=   0.0s\n",
      "[CV 3/5] END ..................C=0.1, gamma=0.1;, score=0.625 total time=   0.0s\n",
      "[CV 4/5] END ..................C=0.1, gamma=0.1;, score=0.633 total time=   0.0s\n",
      "[CV 5/5] END ..................C=0.1, gamma=0.1;, score=0.633 total time=   0.0s\n",
      "[CV 1/5] END .................C=0.1, gamma=0.01;, score=0.637 total time=   0.0s\n",
      "[CV 2/5] END .................C=0.1, gamma=0.01;, score=0.637 total time=   0.0s\n",
      "[CV 3/5] END .................C=0.1, gamma=0.01;, score=0.625 total time=   0.0s\n",
      "[CV 4/5] END .................C=0.1, gamma=0.01;, score=0.633 total time=   0.0s\n",
      "[CV 5/5] END .................C=0.1, gamma=0.01;, score=0.633 total time=   0.0s\n",
      "[CV 1/5] END ................C=0.1, gamma=0.001;, score=0.637 total time=   0.0s\n",
      "[CV 2/5] END ................C=0.1, gamma=0.001;, score=0.637 total time=   0.0s\n",
      "[CV 3/5] END ................C=0.1, gamma=0.001;, score=0.625 total time=   0.0s\n",
      "[CV 4/5] END ................C=0.1, gamma=0.001;, score=0.633 total time=   0.0s\n",
      "[CV 5/5] END ................C=0.1, gamma=0.001;, score=0.633 total time=   0.0s\n",
      "[CV 1/5] END ...............C=0.1, gamma=0.0001;, score=0.887 total time=   0.0s\n",
      "[CV 2/5] END ...............C=0.1, gamma=0.0001;, score=0.938 total time=   0.0s\n",
      "[CV 3/5] END ...............C=0.1, gamma=0.0001;, score=0.963 total time=   0.0s\n",
      "[CV 4/5] END ...............C=0.1, gamma=0.0001;, score=0.962 total time=   0.0s\n",
      "[CV 5/5] END ...............C=0.1, gamma=0.0001;, score=0.886 total time=   0.0s\n",
      "[CV 1/5] END ......................C=1, gamma=1;, score=0.637 total time=   0.0s\n",
      "[CV 2/5] END ......................C=1, gamma=1;, score=0.637 total time=   0.0s\n",
      "[CV 3/5] END ......................C=1, gamma=1;, score=0.625 total time=   0.0s\n",
      "[CV 4/5] END ......................C=1, gamma=1;, score=0.633 total time=   0.0s\n",
      "[CV 5/5] END ......................C=1, gamma=1;, score=0.633 total time=   0.0s\n",
      "[CV 1/5] END ....................C=1, gamma=0.1;, score=0.637 total time=   0.0s\n",
      "[CV 2/5] END ....................C=1, gamma=0.1;, score=0.637 total time=   0.0s\n",
      "[CV 3/5] END ....................C=1, gamma=0.1;, score=0.625 total time=   0.0s\n",
      "[CV 4/5] END ....................C=1, gamma=0.1;, score=0.633 total time=   0.0s\n",
      "[CV 5/5] END ....................C=1, gamma=0.1;, score=0.633 total time=   0.0s\n",
      "[CV 1/5] END ...................C=1, gamma=0.01;, score=0.637 total time=   0.0s\n",
      "[CV 2/5] END ...................C=1, gamma=0.01;, score=0.637 total time=   0.0s\n",
      "[CV 3/5] END ...................C=1, gamma=0.01;, score=0.625 total time=   0.0s\n",
      "[CV 4/5] END ...................C=1, gamma=0.01;, score=0.633 total time=   0.0s\n",
      "[CV 5/5] END ...................C=1, gamma=0.01;, score=0.633 total time=   0.0s\n",
      "[CV 1/5] END ..................C=1, gamma=0.001;, score=0.900 total time=   0.0s\n",
      "[CV 2/5] END ..................C=1, gamma=0.001;, score=0.912 total time=   0.0s\n",
      "[CV 3/5] END ..................C=1, gamma=0.001;, score=0.925 total time=   0.0s\n",
      "[CV 4/5] END ..................C=1, gamma=0.001;, score=0.962 total time=   0.0s\n",
      "[CV 5/5] END ..................C=1, gamma=0.001;, score=0.937 total time=   0.0s\n",
      "[CV 1/5] END .................C=1, gamma=0.0001;, score=0.912 total time=   0.0s\n",
      "[CV 2/5] END .................C=1, gamma=0.0001;, score=0.950 total time=   0.0s\n",
      "[CV 3/5] END .................C=1, gamma=0.0001;, score=0.975 total time=   0.0s\n",
      "[CV 4/5] END .................C=1, gamma=0.0001;, score=0.962 total time=   0.0s\n",
      "[CV 5/5] END .................C=1, gamma=0.0001;, score=0.937 total time=   0.0s\n",
      "[CV 1/5] END .....................C=10, gamma=1;, score=0.637 total time=   0.0s\n",
      "[CV 2/5] END .....................C=10, gamma=1;, score=0.637 total time=   0.0s\n",
      "[CV 3/5] END .....................C=10, gamma=1;, score=0.625 total time=   0.0s\n",
      "[CV 4/5] END .....................C=10, gamma=1;, score=0.633 total time=   0.0s\n",
      "[CV 5/5] END .....................C=10, gamma=1;, score=0.633 total time=   0.0s\n",
      "[CV 1/5] END ...................C=10, gamma=0.1;, score=0.637 total time=   0.0s\n",
      "[CV 2/5] END ...................C=10, gamma=0.1;, score=0.637 total time=   0.0s\n",
      "[CV 3/5] END ...................C=10, gamma=0.1;, score=0.625 total time=   0.0s\n",
      "[CV 4/5] END ...................C=10, gamma=0.1;, score=0.633 total time=   0.0s\n",
      "[CV 5/5] END ...................C=10, gamma=0.1;, score=0.633 total time=   0.0s\n",
      "[CV 1/5] END ..................C=10, gamma=0.01;, score=0.637 total time=   0.0s\n",
      "[CV 2/5] END ..................C=10, gamma=0.01;, score=0.637 total time=   0.0s\n",
      "[CV 3/5] END ..................C=10, gamma=0.01;, score=0.613 total time=   0.0s\n",
      "[CV 4/5] END ..................C=10, gamma=0.01;, score=0.633 total time=   0.0s\n",
      "[CV 5/5] END ..................C=10, gamma=0.01;, score=0.633 total time=   0.0s\n",
      "[CV 1/5] END .................C=10, gamma=0.001;, score=0.887 total time=   0.0s\n",
      "[CV 2/5] END .................C=10, gamma=0.001;, score=0.912 total time=   0.0s\n",
      "[CV 3/5] END .................C=10, gamma=0.001;, score=0.900 total time=   0.0s\n",
      "[CV 4/5] END .................C=10, gamma=0.001;, score=0.937 total time=   0.0s\n",
      "[CV 5/5] END .................C=10, gamma=0.001;, score=0.924 total time=   0.0s\n",
      "[CV 1/5] END ................C=10, gamma=0.0001;, score=0.950 total time=   0.0s\n",
      "[CV 2/5] END ................C=10, gamma=0.0001;, score=0.912 total time=   0.0s\n",
      "[CV 3/5] END ................C=10, gamma=0.0001;, score=0.975 total time=   0.0s\n",
      "[CV 4/5] END ................C=10, gamma=0.0001;, score=0.949 total time=   0.0s\n",
      "[CV 5/5] END ................C=10, gamma=0.0001;, score=0.949 total time=   0.0s\n",
      "[CV 1/5] END ....................C=100, gamma=1;, score=0.637 total time=   0.0s\n",
      "[CV 2/5] END ....................C=100, gamma=1;, score=0.637 total time=   0.0s\n",
      "[CV 3/5] END ....................C=100, gamma=1;, score=0.625 total time=   0.0s\n",
      "[CV 4/5] END ....................C=100, gamma=1;, score=0.633 total time=   0.0s\n",
      "[CV 5/5] END ....................C=100, gamma=1;, score=0.633 total time=   0.0s\n",
      "[CV 1/5] END ..................C=100, gamma=0.1;, score=0.637 total time=   0.0s\n",
      "[CV 2/5] END ..................C=100, gamma=0.1;, score=0.637 total time=   0.0s\n",
      "[CV 3/5] END ..................C=100, gamma=0.1;, score=0.625 total time=   0.0s\n",
      "[CV 4/5] END ..................C=100, gamma=0.1;, score=0.633 total time=   0.0s\n",
      "[CV 5/5] END ..................C=100, gamma=0.1;, score=0.633 total time=   0.0s\n",
      "[CV 1/5] END .................C=100, gamma=0.01;, score=0.637 total time=   0.0s\n",
      "[CV 2/5] END .................C=100, gamma=0.01;, score=0.637 total time=   0.0s\n",
      "[CV 3/5] END .................C=100, gamma=0.01;, score=0.613 total time=   0.0s\n",
      "[CV 4/5] END .................C=100, gamma=0.01;, score=0.633 total time=   0.0s\n",
      "[CV 5/5] END .................C=100, gamma=0.01;, score=0.633 total time=   0.0s\n",
      "[CV 1/5] END ................C=100, gamma=0.001;, score=0.887 total time=   0.0s\n",
      "[CV 2/5] END ................C=100, gamma=0.001;, score=0.912 total time=   0.0s\n",
      "[CV 3/5] END ................C=100, gamma=0.001;, score=0.900 total time=   0.0s\n",
      "[CV 4/5] END ................C=100, gamma=0.001;, score=0.937 total time=   0.0s\n",
      "[CV 5/5] END ................C=100, gamma=0.001;, score=0.924 total time=   0.0s\n",
      "[CV 1/5] END ...............C=100, gamma=0.0001;, score=0.925 total time=   0.0s\n",
      "[CV 2/5] END ...............C=100, gamma=0.0001;, score=0.912 total time=   0.0s\n",
      "[CV 3/5] END ...............C=100, gamma=0.0001;, score=0.975 total time=   0.0s\n",
      "[CV 4/5] END ...............C=100, gamma=0.0001;, score=0.937 total time=   0.0s\n",
      "[CV 5/5] END ...............C=100, gamma=0.0001;, score=0.949 total time=   0.0s\n",
      "[CV 1/5] END ...................C=1000, gamma=1;, score=0.637 total time=   0.0s\n",
      "[CV 2/5] END ...................C=1000, gamma=1;, score=0.637 total time=   0.0s\n",
      "[CV 3/5] END ...................C=1000, gamma=1;, score=0.625 total time=   0.0s\n",
      "[CV 4/5] END ...................C=1000, gamma=1;, score=0.633 total time=   0.0s\n",
      "[CV 5/5] END ...................C=1000, gamma=1;, score=0.633 total time=   0.0s\n",
      "[CV 1/5] END .................C=1000, gamma=0.1;, score=0.637 total time=   0.0s\n",
      "[CV 2/5] END .................C=1000, gamma=0.1;, score=0.637 total time=   0.0s\n",
      "[CV 3/5] END .................C=1000, gamma=0.1;, score=0.625 total time=   0.0s\n",
      "[CV 4/5] END .................C=1000, gamma=0.1;, score=0.633 total time=   0.0s\n",
      "[CV 5/5] END .................C=1000, gamma=0.1;, score=0.633 total time=   0.0s\n",
      "[CV 1/5] END ................C=1000, gamma=0.01;, score=0.637 total time=   0.0s\n",
      "[CV 2/5] END ................C=1000, gamma=0.01;, score=0.637 total time=   0.0s\n",
      "[CV 3/5] END ................C=1000, gamma=0.01;, score=0.613 total time=   0.0s\n",
      "[CV 4/5] END ................C=1000, gamma=0.01;, score=0.633 total time=   0.0s\n",
      "[CV 5/5] END ................C=1000, gamma=0.01;, score=0.633 total time=   0.0s\n",
      "[CV 1/5] END ...............C=1000, gamma=0.001;, score=0.887 total time=   0.0s\n",
      "[CV 2/5] END ...............C=1000, gamma=0.001;, score=0.912 total time=   0.0s\n",
      "[CV 3/5] END ...............C=1000, gamma=0.001;, score=0.900 total time=   0.0s\n",
      "[CV 4/5] END ...............C=1000, gamma=0.001;, score=0.937 total time=   0.0s\n",
      "[CV 5/5] END ...............C=1000, gamma=0.001;, score=0.924 total time=   0.0s\n",
      "[CV 1/5] END ..............C=1000, gamma=0.0001;, score=0.938 total time=   0.0s\n",
      "[CV 2/5] END ..............C=1000, gamma=0.0001;, score=0.912 total time=   0.0s\n",
      "[CV 3/5] END ..............C=1000, gamma=0.0001;, score=0.963 total time=   0.0s\n",
      "[CV 4/5] END ..............C=1000, gamma=0.0001;, score=0.924 total time=   0.0s\n",
      "[CV 5/5] END ..............C=1000, gamma=0.0001;, score=0.962 total time=   0.0s\n",
      "{'C': 1, 'gamma': 0.0001}\n",
      "SVC(C=1, gamma=0.0001)\n"
     ]
    }
   ],
   "source": [
    "from sklearn.model_selection import GridSearchCV\n",
    "param_grid = {'C': [0.1, 1, 10, 100, 1000], 'gamma': [1, 0.1, 0.01, 0.001, 0.0001]}\n",
    "grid = GridSearchCV(SVC(), param_grid, refit=True, verbose=3)\n",
    "grid.fit(X_train, y_train)\n",
    "print(grid.best_params_)\n",
    "print(grid.best_estimator_)\n"
   ]
  },
  {
   "cell_type": "markdown",
   "id": "2b208b89-8486-4403-94ee-e9204c3ae004",
   "metadata": {},
   "source": [
    "Partie 7: Prédictions et évaluations avec les meilleurs paramètres"
   ]
  },
  {
   "cell_type": "code",
   "execution_count": 7,
   "id": "60f642b1-8f6d-4f51-aa1d-7915547d92b4",
   "metadata": {},
   "outputs": [
    {
     "name": "stdout",
     "output_type": "stream",
     "text": [
      "[[ 59   7]\n",
      " [  4 101]]\n",
      "              precision    recall  f1-score   support\n",
      "\n",
      "           0       0.94      0.89      0.91        66\n",
      "           1       0.94      0.96      0.95       105\n",
      "\n",
      "    accuracy                           0.94       171\n",
      "   macro avg       0.94      0.93      0.93       171\n",
      "weighted avg       0.94      0.94      0.94       171\n",
      "\n"
     ]
    }
   ],
   "source": [
    "grid_predictions = grid.predict(X_test)\n",
    "print(confusion_matrix(y_test, grid_predictions))\n",
    "print(classification_report(y_test, grid_predictions))\n"
   ]
  },
  {
   "cell_type": "markdown",
   "id": "662fcc1f-2abd-46c4-bdca-768da6b6f4ae",
   "metadata": {},
   "source": [
    "TPex2"
   ]
  },
  {
   "cell_type": "markdown",
   "id": "44edbee4-099c-4309-a4cd-d58c81556854",
   "metadata": {},
   "source": [
    "Partie 1: Importation des bibliothèques et acquisition des données\n"
   ]
  },
  {
   "cell_type": "code",
   "execution_count": 9,
   "id": "70884cfe-d03f-43e8-990e-d1c9455657ec",
   "metadata": {},
   "outputs": [],
   "source": [
    "import pandas as pd\n",
    "from sklearn.datasets import load_breast_cancer\n",
    "from sklearn.model_selection import train_test_split\n",
    "from sklearn.preprocessing import StandardScaler\n"
   ]
  },
  {
   "cell_type": "markdown",
   "id": "9748bf46-2159-435e-a2f4-dec8f9667d84",
   "metadata": {},
   "source": [
    "Partie 2: Chargement des données et normalisation\n"
   ]
  },
  {
   "cell_type": "code",
   "execution_count": 10,
   "id": "81c53a8b-d350-44aa-ba87-b03cf449132e",
   "metadata": {},
   "outputs": [],
   "source": [
    "cancer = load_breast_cancer()\n",
    "X = cancer.data\n",
    "y = cancer.target\n",
    "X_train, X_test, y_train, y_test = train_test_split(X, y, test_size=0.3, random_state=42)\n",
    "scaler = StandardScaler()\n",
    "X_train_scaled = scaler.fit_transform(X_train)\n",
    "X_test_scaled = scaler.transform(X_test)\n"
   ]
  },
  {
   "cell_type": "markdown",
   "id": "1abb2ea0-e52b-4314-ab8c-6d592333ab69",
   "metadata": {},
   "source": [
    "Partie 3: Entraînement des classifieurs SVM\n"
   ]
  },
  {
   "cell_type": "code",
   "execution_count": 13,
   "id": "9080f708-bd25-4cdb-a590-d4f652b706fc",
   "metadata": {},
   "outputs": [
    {
     "data": {
      "text/html": [
       "<style>#sk-container-id-2 {color: black;background-color: white;}#sk-container-id-2 pre{padding: 0;}#sk-container-id-2 div.sk-toggleable {background-color: white;}#sk-container-id-2 label.sk-toggleable__label {cursor: pointer;display: block;width: 100%;margin-bottom: 0;padding: 0.3em;box-sizing: border-box;text-align: center;}#sk-container-id-2 label.sk-toggleable__label-arrow:before {content: \"▸\";float: left;margin-right: 0.25em;color: #696969;}#sk-container-id-2 label.sk-toggleable__label-arrow:hover:before {color: black;}#sk-container-id-2 div.sk-estimator:hover label.sk-toggleable__label-arrow:before {color: black;}#sk-container-id-2 div.sk-toggleable__content {max-height: 0;max-width: 0;overflow: hidden;text-align: left;background-color: #f0f8ff;}#sk-container-id-2 div.sk-toggleable__content pre {margin: 0.2em;color: black;border-radius: 0.25em;background-color: #f0f8ff;}#sk-container-id-2 input.sk-toggleable__control:checked~div.sk-toggleable__content {max-height: 200px;max-width: 100%;overflow: auto;}#sk-container-id-2 input.sk-toggleable__control:checked~label.sk-toggleable__label-arrow:before {content: \"▾\";}#sk-container-id-2 div.sk-estimator input.sk-toggleable__control:checked~label.sk-toggleable__label {background-color: #d4ebff;}#sk-container-id-2 div.sk-label input.sk-toggleable__control:checked~label.sk-toggleable__label {background-color: #d4ebff;}#sk-container-id-2 input.sk-hidden--visually {border: 0;clip: rect(1px 1px 1px 1px);clip: rect(1px, 1px, 1px, 1px);height: 1px;margin: -1px;overflow: hidden;padding: 0;position: absolute;width: 1px;}#sk-container-id-2 div.sk-estimator {font-family: monospace;background-color: #f0f8ff;border: 1px dotted black;border-radius: 0.25em;box-sizing: border-box;margin-bottom: 0.5em;}#sk-container-id-2 div.sk-estimator:hover {background-color: #d4ebff;}#sk-container-id-2 div.sk-parallel-item::after {content: \"\";width: 100%;border-bottom: 1px solid gray;flex-grow: 1;}#sk-container-id-2 div.sk-label:hover label.sk-toggleable__label {background-color: #d4ebff;}#sk-container-id-2 div.sk-serial::before {content: \"\";position: absolute;border-left: 1px solid gray;box-sizing: border-box;top: 0;bottom: 0;left: 50%;z-index: 0;}#sk-container-id-2 div.sk-serial {display: flex;flex-direction: column;align-items: center;background-color: white;padding-right: 0.2em;padding-left: 0.2em;position: relative;}#sk-container-id-2 div.sk-item {position: relative;z-index: 1;}#sk-container-id-2 div.sk-parallel {display: flex;align-items: stretch;justify-content: center;background-color: white;position: relative;}#sk-container-id-2 div.sk-item::before, #sk-container-id-2 div.sk-parallel-item::before {content: \"\";position: absolute;border-left: 1px solid gray;box-sizing: border-box;top: 0;bottom: 0;left: 50%;z-index: -1;}#sk-container-id-2 div.sk-parallel-item {display: flex;flex-direction: column;z-index: 1;position: relative;background-color: white;}#sk-container-id-2 div.sk-parallel-item:first-child::after {align-self: flex-end;width: 50%;}#sk-container-id-2 div.sk-parallel-item:last-child::after {align-self: flex-start;width: 50%;}#sk-container-id-2 div.sk-parallel-item:only-child::after {width: 0;}#sk-container-id-2 div.sk-dashed-wrapped {border: 1px dashed gray;margin: 0 0.4em 0.5em 0.4em;box-sizing: border-box;padding-bottom: 0.4em;background-color: white;}#sk-container-id-2 div.sk-label label {font-family: monospace;font-weight: bold;display: inline-block;line-height: 1.2em;}#sk-container-id-2 div.sk-label-container {text-align: center;}#sk-container-id-2 div.sk-container {/* jupyter's `normalize.less` sets `[hidden] { display: none; }` but bootstrap.min.css set `[hidden] { display: none !important; }` so we also need the `!important` here to be able to override the default hidden behavior on the sphinx rendered scikit-learn.org. See: https://github.com/scikit-learn/scikit-learn/issues/21755 */display: inline-block !important;position: relative;}#sk-container-id-2 div.sk-text-repr-fallback {display: none;}</style><div id=\"sk-container-id-2\" class=\"sk-top-container\"><div class=\"sk-text-repr-fallback\"><pre>SVC()</pre><b>In a Jupyter environment, please rerun this cell to show the HTML representation or trust the notebook. <br />On GitHub, the HTML representation is unable to render, please try loading this page with nbviewer.org.</b></div><div class=\"sk-container\" hidden><div class=\"sk-item\"><div class=\"sk-estimator sk-toggleable\"><input class=\"sk-toggleable__control sk-hidden--visually\" id=\"sk-estimator-id-2\" type=\"checkbox\" checked><label for=\"sk-estimator-id-2\" class=\"sk-toggleable__label sk-toggleable__label-arrow\">SVC</label><div class=\"sk-toggleable__content\"><pre>SVC()</pre></div></div></div></div></div>"
      ],
      "text/plain": [
       "SVC()"
      ]
     },
     "execution_count": 13,
     "metadata": {},
     "output_type": "execute_result"
    }
   ],
   "source": [
    "from sklearn.svm import SVC\n",
    "svm_model_1 = SVC(kernel='linear')\n",
    "svm_model_2 = SVC(kernel='rbf')\n",
    "svm_model_1.fit(X_train_scaled, y_train)\n",
    "svm_model_2.fit(X_train_scaled, y_train)\n"
   ]
  },
  {
   "cell_type": "markdown",
   "id": "7370fc56-29ab-4b82-bd0f-5e9f80841cf5",
   "metadata": {},
   "source": [
    "Partie 4: Entraînement du modèle de régression logistique\n"
   ]
  },
  {
   "cell_type": "markdown",
   "id": "0036da77-7251-4baa-8514-d320e70615cb",
   "metadata": {},
   "source": [
    "Partie 4: Entraînement du modèle de régression logistique\n"
   ]
  },
  {
   "cell_type": "code",
   "execution_count": 16,
   "id": "825b3bb1-6dc7-488a-bdb6-972b8c463698",
   "metadata": {},
   "outputs": [
    {
     "data": {
      "text/html": [
       "<style>#sk-container-id-4 {color: black;background-color: white;}#sk-container-id-4 pre{padding: 0;}#sk-container-id-4 div.sk-toggleable {background-color: white;}#sk-container-id-4 label.sk-toggleable__label {cursor: pointer;display: block;width: 100%;margin-bottom: 0;padding: 0.3em;box-sizing: border-box;text-align: center;}#sk-container-id-4 label.sk-toggleable__label-arrow:before {content: \"▸\";float: left;margin-right: 0.25em;color: #696969;}#sk-container-id-4 label.sk-toggleable__label-arrow:hover:before {color: black;}#sk-container-id-4 div.sk-estimator:hover label.sk-toggleable__label-arrow:before {color: black;}#sk-container-id-4 div.sk-toggleable__content {max-height: 0;max-width: 0;overflow: hidden;text-align: left;background-color: #f0f8ff;}#sk-container-id-4 div.sk-toggleable__content pre {margin: 0.2em;color: black;border-radius: 0.25em;background-color: #f0f8ff;}#sk-container-id-4 input.sk-toggleable__control:checked~div.sk-toggleable__content {max-height: 200px;max-width: 100%;overflow: auto;}#sk-container-id-4 input.sk-toggleable__control:checked~label.sk-toggleable__label-arrow:before {content: \"▾\";}#sk-container-id-4 div.sk-estimator input.sk-toggleable__control:checked~label.sk-toggleable__label {background-color: #d4ebff;}#sk-container-id-4 div.sk-label input.sk-toggleable__control:checked~label.sk-toggleable__label {background-color: #d4ebff;}#sk-container-id-4 input.sk-hidden--visually {border: 0;clip: rect(1px 1px 1px 1px);clip: rect(1px, 1px, 1px, 1px);height: 1px;margin: -1px;overflow: hidden;padding: 0;position: absolute;width: 1px;}#sk-container-id-4 div.sk-estimator {font-family: monospace;background-color: #f0f8ff;border: 1px dotted black;border-radius: 0.25em;box-sizing: border-box;margin-bottom: 0.5em;}#sk-container-id-4 div.sk-estimator:hover {background-color: #d4ebff;}#sk-container-id-4 div.sk-parallel-item::after {content: \"\";width: 100%;border-bottom: 1px solid gray;flex-grow: 1;}#sk-container-id-4 div.sk-label:hover label.sk-toggleable__label {background-color: #d4ebff;}#sk-container-id-4 div.sk-serial::before {content: \"\";position: absolute;border-left: 1px solid gray;box-sizing: border-box;top: 0;bottom: 0;left: 50%;z-index: 0;}#sk-container-id-4 div.sk-serial {display: flex;flex-direction: column;align-items: center;background-color: white;padding-right: 0.2em;padding-left: 0.2em;position: relative;}#sk-container-id-4 div.sk-item {position: relative;z-index: 1;}#sk-container-id-4 div.sk-parallel {display: flex;align-items: stretch;justify-content: center;background-color: white;position: relative;}#sk-container-id-4 div.sk-item::before, #sk-container-id-4 div.sk-parallel-item::before {content: \"\";position: absolute;border-left: 1px solid gray;box-sizing: border-box;top: 0;bottom: 0;left: 50%;z-index: -1;}#sk-container-id-4 div.sk-parallel-item {display: flex;flex-direction: column;z-index: 1;position: relative;background-color: white;}#sk-container-id-4 div.sk-parallel-item:first-child::after {align-self: flex-end;width: 50%;}#sk-container-id-4 div.sk-parallel-item:last-child::after {align-self: flex-start;width: 50%;}#sk-container-id-4 div.sk-parallel-item:only-child::after {width: 0;}#sk-container-id-4 div.sk-dashed-wrapped {border: 1px dashed gray;margin: 0 0.4em 0.5em 0.4em;box-sizing: border-box;padding-bottom: 0.4em;background-color: white;}#sk-container-id-4 div.sk-label label {font-family: monospace;font-weight: bold;display: inline-block;line-height: 1.2em;}#sk-container-id-4 div.sk-label-container {text-align: center;}#sk-container-id-4 div.sk-container {/* jupyter's `normalize.less` sets `[hidden] { display: none; }` but bootstrap.min.css set `[hidden] { display: none !important; }` so we also need the `!important` here to be able to override the default hidden behavior on the sphinx rendered scikit-learn.org. See: https://github.com/scikit-learn/scikit-learn/issues/21755 */display: inline-block !important;position: relative;}#sk-container-id-4 div.sk-text-repr-fallback {display: none;}</style><div id=\"sk-container-id-4\" class=\"sk-top-container\"><div class=\"sk-text-repr-fallback\"><pre>LogisticRegression(max_iter=10000)</pre><b>In a Jupyter environment, please rerun this cell to show the HTML representation or trust the notebook. <br />On GitHub, the HTML representation is unable to render, please try loading this page with nbviewer.org.</b></div><div class=\"sk-container\" hidden><div class=\"sk-item\"><div class=\"sk-estimator sk-toggleable\"><input class=\"sk-toggleable__control sk-hidden--visually\" id=\"sk-estimator-id-4\" type=\"checkbox\" checked><label for=\"sk-estimator-id-4\" class=\"sk-toggleable__label sk-toggleable__label-arrow\">LogisticRegression</label><div class=\"sk-toggleable__content\"><pre>LogisticRegression(max_iter=10000)</pre></div></div></div></div></div>"
      ],
      "text/plain": [
       "LogisticRegression(max_iter=10000)"
      ]
     },
     "execution_count": 16,
     "metadata": {},
     "output_type": "execute_result"
    }
   ],
   "source": [
    "from sklearn.linear_model import LogisticRegression\n",
    "log_model = LogisticRegression(max_iter=10000)\n",
    "log_model.fit(X_train_scaled, y_train)\n"
   ]
  },
  {
   "cell_type": "markdown",
   "id": "cf2020b2-5f39-4751-8806-8e19c9571a89",
   "metadata": {},
   "source": [
    "Partie 5: Évaluation des modèles\n"
   ]
  },
  {
   "cell_type": "code",
   "execution_count": 17,
   "id": "6bab1e96-cfff-4ba2-b992-d08981ce8b9b",
   "metadata": {},
   "outputs": [
    {
     "name": "stdout",
     "output_type": "stream",
     "text": [
      "SVM avec noyau linéaire :\n",
      "Accuracy: 0.9766081871345029\n",
      "              precision    recall  f1-score   support\n",
      "\n",
      "           0       0.97      0.97      0.97        63\n",
      "           1       0.98      0.98      0.98       108\n",
      "\n",
      "    accuracy                           0.98       171\n",
      "   macro avg       0.97      0.97      0.97       171\n",
      "weighted avg       0.98      0.98      0.98       171\n",
      "\n",
      "SVM avec noyau RBF :\n",
      "Accuracy: 0.9766081871345029\n",
      "              precision    recall  f1-score   support\n",
      "\n",
      "           0       0.97      0.97      0.97        63\n",
      "           1       0.98      0.98      0.98       108\n",
      "\n",
      "    accuracy                           0.98       171\n",
      "   macro avg       0.97      0.97      0.97       171\n",
      "weighted avg       0.98      0.98      0.98       171\n",
      "\n",
      "Régression logistique :\n",
      "Accuracy: 0.9824561403508771\n",
      "              precision    recall  f1-score   support\n",
      "\n",
      "           0       0.97      0.98      0.98        63\n",
      "           1       0.99      0.98      0.99       108\n",
      "\n",
      "    accuracy                           0.98       171\n",
      "   macro avg       0.98      0.98      0.98       171\n",
      "weighted avg       0.98      0.98      0.98       171\n",
      "\n"
     ]
    }
   ],
   "source": [
    "from sklearn.metrics import accuracy_score, classification_report\n",
    "\n",
    "# Prédictions pour les SVM\n",
    "svm_predictions_1 = svm_model_1.predict(X_test_scaled)\n",
    "svm_predictions_2 = svm_model_2.predict(X_test_scaled)\n",
    "\n",
    "# Prédictions pour la régression logistique\n",
    "log_predictions = log_model.predict(X_test_scaled)\n",
    "\n",
    "# Évaluation des SVM\n",
    "print(\"SVM avec noyau linéaire :\")\n",
    "print(\"Accuracy:\", accuracy_score(y_test, svm_predictions_1))\n",
    "print(classification_report(y_test, svm_predictions_1))\n",
    "\n",
    "print(\"SVM avec noyau RBF :\")\n",
    "print(\"Accuracy:\", accuracy_score(y_test, svm_predictions_2))\n",
    "print(classification_report(y_test, svm_predictions_2))\n",
    "\n",
    "# Évaluation de la régression logistique\n",
    "print(\"Régression logistique :\")\n",
    "print(\"Accuracy:\", accuracy_score(y_test, log_predictions))\n",
    "print(classification_report(y_test, log_predictions))\n"
   ]
  },
  {
   "cell_type": "code",
   "execution_count": 19,
   "id": "f2f282f0-90b1-4fe4-9238-4c90831ac924",
   "metadata": {},
   "outputs": [
    {
     "data": {
      "image/png": "[encoded data removed]",
      "text/plain": [
       "<Figure size 1000x600 with 1 Axes>"
      ]
     },
     "metadata": {},
     "output_type": "display_data"
    }
   ],
   "source": [
    "import matplotlib.pyplot as plt\n",
    "\n",
    "# Données à tracer\n",
    "models = ['SVM linéaire', 'SVM RBF', 'Régression logistique']\n",
    "accuracy = [accuracy_score(y_test, svm_predictions_1), accuracy_score(y_test, svm_predictions_2), accuracy_score(y_test, log_predictions)]\n",
    "\n",
    "# Création du graphique à barres\n",
    "plt.figure(figsize=(10, 6))\n",
    "plt.bar(models, accuracy, color=['blue', 'orange', 'green'])\n",
    "plt.xlabel('Modèle')\n",
    "plt.ylabel('Exactitude (Accuracy)')\n",
    "plt.title('Comparaison des exactitudes des différents modèles')\n",
    "plt.ylim(0.95, 1.0)  # Ajustement des limites de l'axe y pour une meilleure visualisation\n",
    "plt.show()\n"
   ]
  },
  {
   "cell_type": "markdown",
   "id": "ba77cdef-6b44-4878-8f99-792417197f62",
   "metadata": {},
   "source": [
    "En comparons les performances des trois modèles en termes d'exactitude (accuracy), de précision, de rappel (recall) et de score F1. Vous pouvez observer que la régression logistique semble avoir la meilleure performance en termes d'exactitude, de précision et de score F1 pour les deux classes (0 et 1), tandis que les SVM avec différents noyaux ont des performances légèrement inférieures mais toujours très bonnes."
   ]
  },
  {
   "cell_type": "code",
   "execution_count": null,
   "id": "3fe026e7-dc31-4edf-b4a2-421f8583af65",
   "metadata": {},
   "outputs": [],
   "source": []
  }
 ],
 "metadata": {
  "kernelspec": {
   "display_name": "Python 3 (ipykernel)",
   "language": "python",
   "name": "python3"
  },
  "language_info": {
   "codemirror_mode": {
    "name": "ipython",
    "version": 3
   },
   "file_extension": ".py",
   "mimetype": "text/x-python",
   "name": "python",
   "nbconvert_exporter": "python",
   "pygments_lexer": "ipython3",
   "version": "3.11.7"
  }
 },
 "nbformat": 4,
 "nbformat_minor": 5
}
